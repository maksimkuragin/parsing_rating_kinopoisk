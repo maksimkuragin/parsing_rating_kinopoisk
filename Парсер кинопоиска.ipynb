{
 "cells": [
  {
   "cell_type": "code",
   "execution_count": 2,
   "id": "confused-phase",
   "metadata": {},
   "outputs": [],
   "source": [
    "import pandas as pd\n",
    "import numpy as np\n",
    "import requests\n",
    "from bs4 import BeautifulSoup"
   ]
  },
  {
   "cell_type": "code",
   "execution_count": 19,
   "id": "sufficient-pressing",
   "metadata": {},
   "outputs": [],
   "source": [
    "title = [\n",
    "    'джентельмены',\n",
    "    'гнев+человеческий',\n",
    "    'карты+деньги+два+ствола',\n",
    "    'большой+куш',\n",
    "    'рок+н+рольщик',\n",
    "    'револьвер',\n",
    "    'меч+короля+артура',\n",
    "    'начало',\n",
    "    'интерстеллар',\n",
    "    'довод',\n",
    "    'престиж',\n",
    "    'дюнкерк',\n",
    "    'превосходство']"
   ]
  },
  {
   "cell_type": "code",
   "execution_count": 20,
   "id": "rural-basic",
   "metadata": {},
   "outputs": [],
   "source": [
    "res = []\n",
    "for i in title:\n",
    "    try:\n",
    "        html = requests.get(f'https://www.kinopoisk.ru/index.php?kp_query={i}').text\n",
    "        soup = BeautifulSoup(html, 'html.parser')\n",
    "        rating = soup.find('div', class_='rating')\n",
    "        res.append(rating.text)\n",
    "    except:\n",
    "        res.append('None')"
   ]
  },
  {
   "cell_type": "code",
   "execution_count": 21,
   "id": "outer-economics",
   "metadata": {},
   "outputs": [],
   "source": [
    "array = np.array([title, res])\n",
    "columns = ['Тайтл', 'Рейтинг кинопоиск']"
   ]
  },
  {
   "cell_type": "code",
   "execution_count": 22,
   "id": "exempt-chosen",
   "metadata": {},
   "outputs": [
    {
     "data": {
      "text/html": [
       "<div>\n",
       "<style scoped>\n",
       "    .dataframe tbody tr th:only-of-type {\n",
       "        vertical-align: middle;\n",
       "    }\n",
       "\n",
       "    .dataframe tbody tr th {\n",
       "        vertical-align: top;\n",
       "    }\n",
       "\n",
       "    .dataframe thead th {\n",
       "        text-align: right;\n",
       "    }\n",
       "</style>\n",
       "<table border=\"1\" class=\"dataframe\">\n",
       "  <thead>\n",
       "    <tr style=\"text-align: right;\">\n",
       "      <th></th>\n",
       "      <th>Тайтл</th>\n",
       "      <th>Рейтинг кинопоиск</th>\n",
       "    </tr>\n",
       "  </thead>\n",
       "  <tbody>\n",
       "    <tr>\n",
       "      <th>0</th>\n",
       "      <td>джентельмены</td>\n",
       "      <td>8.5</td>\n",
       "    </tr>\n",
       "    <tr>\n",
       "      <th>1</th>\n",
       "      <td>гнев+человеческий</td>\n",
       "      <td>7.7</td>\n",
       "    </tr>\n",
       "    <tr>\n",
       "      <th>2</th>\n",
       "      <td>карты+деньги+два+ствола</td>\n",
       "      <td>8.6</td>\n",
       "    </tr>\n",
       "    <tr>\n",
       "      <th>3</th>\n",
       "      <td>большой+куш</td>\n",
       "      <td>8.5</td>\n",
       "    </tr>\n",
       "    <tr>\n",
       "      <th>4</th>\n",
       "      <td>рок+н+рольщик</td>\n",
       "      <td>7.8</td>\n",
       "    </tr>\n",
       "    <tr>\n",
       "      <th>5</th>\n",
       "      <td>револьвер</td>\n",
       "      <td>7.4</td>\n",
       "    </tr>\n",
       "    <tr>\n",
       "      <th>6</th>\n",
       "      <td>меч+короля+артура</td>\n",
       "      <td>7.1</td>\n",
       "    </tr>\n",
       "    <tr>\n",
       "      <th>7</th>\n",
       "      <td>начало</td>\n",
       "      <td>8.7</td>\n",
       "    </tr>\n",
       "    <tr>\n",
       "      <th>8</th>\n",
       "      <td>интерстеллар</td>\n",
       "      <td>8.6</td>\n",
       "    </tr>\n",
       "    <tr>\n",
       "      <th>9</th>\n",
       "      <td>довод</td>\n",
       "      <td>7.6</td>\n",
       "    </tr>\n",
       "    <tr>\n",
       "      <th>10</th>\n",
       "      <td>престиж</td>\n",
       "      <td>8.5</td>\n",
       "    </tr>\n",
       "    <tr>\n",
       "      <th>11</th>\n",
       "      <td>дюнкерк</td>\n",
       "      <td>7.3</td>\n",
       "    </tr>\n",
       "    <tr>\n",
       "      <th>12</th>\n",
       "      <td>превосходство</td>\n",
       "      <td>6.5</td>\n",
       "    </tr>\n",
       "  </tbody>\n",
       "</table>\n",
       "</div>"
      ],
      "text/plain": [
       "                      Тайтл Рейтинг кинопоиск\n",
       "0              джентельмены               8.5\n",
       "1         гнев+человеческий               7.7\n",
       "2   карты+деньги+два+ствола               8.6\n",
       "3               большой+куш               8.5\n",
       "4             рок+н+рольщик               7.8\n",
       "5                 револьвер               7.4\n",
       "6         меч+короля+артура               7.1\n",
       "7                    начало               8.7\n",
       "8              интерстеллар               8.6\n",
       "9                     довод               7.6\n",
       "10                  престиж               8.5\n",
       "11                  дюнкерк               7.3\n",
       "12            превосходство               6.5"
      ]
     },
     "execution_count": 22,
     "metadata": {},
     "output_type": "execute_result"
    }
   ],
   "source": [
    "df = pd.DataFrame(array, columns).T\n",
    "df"
   ]
  },
  {
   "cell_type": "code",
   "execution_count": 90,
   "id": "patent-amateur",
   "metadata": {},
   "outputs": [],
   "source": [
    "df.to_excel('Рейтинг фильмов кинопоиск.xlsx')"
   ]
  }
 ],
 "metadata": {
  "kernelspec": {
   "display_name": "Python 3",
   "language": "python",
   "name": "python3"
  },
  "language_info": {
   "codemirror_mode": {
    "name": "ipython",
    "version": 3
   },
   "file_extension": ".py",
   "mimetype": "text/x-python",
   "name": "python",
   "nbconvert_exporter": "python",
   "pygments_lexer": "ipython3",
   "version": "3.8.8"
  }
 },
 "nbformat": 4,
 "nbformat_minor": 5
}
